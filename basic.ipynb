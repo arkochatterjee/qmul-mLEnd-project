{
 "cells": [
  {
   "cell_type": "markdown",
   "id": "979a02dd-384d-478f-8816-67013bb05d77",
   "metadata": {},
   "source": [
    "Basic implementation of MLEnd Code"
   ]
  },
  {
   "cell_type": "code",
   "execution_count": 1,
   "id": "9cd49b32-eb57-4750-b80b-d7f0e5e66564",
   "metadata": {},
   "outputs": [
    {
     "name": "stdout",
     "output_type": "stream",
     "text": [
      "Collecting librosa\n",
      "  Using cached librosa-0.9.2-py3-none-any.whl (214 kB)\n",
      "Collecting audioread>=2.1.9\n",
      "  Using cached audioread-3.0.0-py3-none-any.whl\n",
      "Requirement already satisfied: scikit-learn>=0.19.1 in /opt/conda/lib/python3.10/site-packages (from librosa) (1.1.2)\n",
      "Requirement already satisfied: numba>=0.45.1 in /opt/conda/lib/python3.10/site-packages (from librosa) (0.55.2)\n",
      "Requirement already satisfied: numpy>=1.17.0 in /opt/conda/lib/python3.10/site-packages (from librosa) (1.22.4)\n",
      "Collecting resampy>=0.2.2\n",
      "  Using cached resampy-0.4.2-py3-none-any.whl (3.1 MB)\n",
      "Requirement already satisfied: packaging>=20.0 in /opt/conda/lib/python3.10/site-packages (from librosa) (21.3)\n",
      "Requirement already satisfied: decorator>=4.0.10 in /opt/conda/lib/python3.10/site-packages (from librosa) (5.1.1)\n",
      "Collecting pooch>=1.0\n",
      "  Using cached pooch-1.6.0-py3-none-any.whl (56 kB)\n",
      "Collecting soundfile>=0.10.2\n",
      "  Using cached soundfile-0.11.0-py2.py3-none-any.whl (23 kB)\n",
      "Requirement already satisfied: scipy>=1.2.0 in /opt/conda/lib/python3.10/site-packages (from librosa) (1.9.1)\n",
      "Requirement already satisfied: joblib>=0.14 in /opt/conda/lib/python3.10/site-packages (from librosa) (1.2.0)\n",
      "Requirement already satisfied: llvmlite<0.39,>=0.38.0rc1 in /opt/conda/lib/python3.10/site-packages (from numba>=0.45.1->librosa) (0.38.1)\n",
      "Requirement already satisfied: setuptools in /opt/conda/lib/python3.10/site-packages (from numba>=0.45.1->librosa) (65.3.0)\n",
      "Requirement already satisfied: pyparsing!=3.0.5,>=2.0.2 in /opt/conda/lib/python3.10/site-packages (from packaging>=20.0->librosa) (3.0.9)\n",
      "Requirement already satisfied: requests>=2.19.0 in /opt/conda/lib/python3.10/site-packages (from pooch>=1.0->librosa) (2.28.1)\n",
      "Collecting appdirs>=1.3.0\n",
      "  Using cached appdirs-1.4.4-py2.py3-none-any.whl (9.6 kB)\n",
      "Requirement already satisfied: threadpoolctl>=2.0.0 in /opt/conda/lib/python3.10/site-packages (from scikit-learn>=0.19.1->librosa) (3.1.0)\n",
      "Requirement already satisfied: cffi>=1.0 in /opt/conda/lib/python3.10/site-packages (from soundfile>=0.10.2->librosa) (1.15.1)\n",
      "Requirement already satisfied: pycparser in /opt/conda/lib/python3.10/site-packages (from cffi>=1.0->soundfile>=0.10.2->librosa) (2.21)\n",
      "Requirement already satisfied: idna<4,>=2.5 in /opt/conda/lib/python3.10/site-packages (from requests>=2.19.0->pooch>=1.0->librosa) (3.3)\n",
      "Requirement already satisfied: urllib3<1.27,>=1.21.1 in /opt/conda/lib/python3.10/site-packages (from requests>=2.19.0->pooch>=1.0->librosa) (1.26.11)\n",
      "Requirement already satisfied: certifi>=2017.4.17 in /opt/conda/lib/python3.10/site-packages (from requests>=2.19.0->pooch>=1.0->librosa) (2022.9.14)\n",
      "Requirement already satisfied: charset-normalizer<3,>=2 in /opt/conda/lib/python3.10/site-packages (from requests>=2.19.0->pooch>=1.0->librosa) (2.1.1)\n",
      "Installing collected packages: appdirs, audioread, soundfile, resampy, pooch, librosa\n",
      "Successfully installed appdirs-1.4.4 audioread-3.0.0 librosa-0.9.2 pooch-1.6.0 resampy-0.4.2 soundfile-0.11.0\n",
      "\n",
      "\u001b[1m[\u001b[0m\u001b[34;49mnotice\u001b[0m\u001b[1;39;49m]\u001b[0m\u001b[39;49m A new release of pip available: \u001b[0m\u001b[31;49m22.3\u001b[0m\u001b[39;49m -> \u001b[0m\u001b[32;49m22.3.1\u001b[0m\n",
      "\u001b[1m[\u001b[0m\u001b[34;49mnotice\u001b[0m\u001b[1;39;49m]\u001b[0m\u001b[39;49m To update, run: \u001b[0m\u001b[32;49mpip install --upgrade pip\u001b[0m\n"
     ]
    }
   ],
   "source": [
    "!pip install librosa"
   ]
  },
  {
   "cell_type": "code",
   "execution_count": 14,
   "id": "32dd3f5d-4a4c-4933-aa6f-cf74f4f53791",
   "metadata": {},
   "outputs": [],
   "source": [
    "#required dependencies\n",
    "\n",
    "import numpy as np\n",
    "import pandas as pd\n",
    "import matplotlib.pyplot as plt\n",
    "\n",
    "import os, sys, re, pickle, glob\n",
    "import urllib.request\n",
    "import zipfile\n",
    "\n",
    "import IPython.display as ipd\n",
    "from tqdm import tqdm\n",
    "import librosa\n",
    "\n",
    "import zipfile"
   ]
  },
  {
   "cell_type": "code",
   "execution_count": 3,
   "id": "81c9154b-7c79-47ab-a793-94b9968c3b52",
   "metadata": {},
   "outputs": [],
   "source": [
    "directory_to_extract_to = '/home/jovyan/ML/DATA/DATA_unzip_full/'\n",
    "\n",
    "for i in range(1,6):\n",
    "    zip_path = '/home/jovyan/ML/DATA/DATA_ZIP/MLEndLS_' + str(i) + '.zip'\n",
    "    with zipfile.ZipFile(zip_path, 'r') as zip_ref:\n",
    "        zip_ref.extractall(directory_to_extract_to)"
   ]
  },
  {
   "cell_type": "code",
   "execution_count": 15,
   "id": "1f1a1b9f-7f84-4d7e-a731-dd9f6a2671ef",
   "metadata": {},
   "outputs": [
    {
     "data": {
      "text/plain": [
       "2500"
      ]
     },
     "execution_count": 15,
     "metadata": {},
     "output_type": "execute_result"
    }
   ],
   "source": [
    "sample_path = '/home/jovyan/ML/DATA/DATA_unzip_full/*.wav'\n",
    "files = glob.glob(sample_path)\n",
    "len(files)"
   ]
  },
  {
   "cell_type": "code",
   "execution_count": 16,
   "id": "31465b2d-ea89-4a96-b8c0-d0fe8ed865a1",
   "metadata": {},
   "outputs": [
    {
     "data": {
      "text/html": [
       "<div>\n",
       "<style scoped>\n",
       "    .dataframe tbody tr th:only-of-type {\n",
       "        vertical-align: middle;\n",
       "    }\n",
       "\n",
       "    .dataframe tbody tr th {\n",
       "        vertical-align: top;\n",
       "    }\n",
       "\n",
       "    .dataframe thead th {\n",
       "        text-align: right;\n",
       "    }\n",
       "</style>\n",
       "<table border=\"1\" class=\"dataframe\">\n",
       "  <thead>\n",
       "    <tr style=\"text-align: right;\">\n",
       "      <th></th>\n",
       "      <th>area</th>\n",
       "      <th>spot</th>\n",
       "      <th>in_out</th>\n",
       "      <th>Participant</th>\n",
       "    </tr>\n",
       "    <tr>\n",
       "      <th>file_id</th>\n",
       "      <th></th>\n",
       "      <th></th>\n",
       "      <th></th>\n",
       "      <th></th>\n",
       "    </tr>\n",
       "  </thead>\n",
       "  <tbody>\n",
       "    <tr>\n",
       "      <th>0001.wav</th>\n",
       "      <td>british</td>\n",
       "      <td>street</td>\n",
       "      <td>outdoor</td>\n",
       "      <td>S151</td>\n",
       "    </tr>\n",
       "    <tr>\n",
       "      <th>0002.wav</th>\n",
       "      <td>kensington</td>\n",
       "      <td>dinosaur</td>\n",
       "      <td>indoor</td>\n",
       "      <td>S127</td>\n",
       "    </tr>\n",
       "    <tr>\n",
       "      <th>0003.wav</th>\n",
       "      <td>campus</td>\n",
       "      <td>square</td>\n",
       "      <td>outdoor</td>\n",
       "      <td>S18</td>\n",
       "    </tr>\n",
       "    <tr>\n",
       "      <th>0004.wav</th>\n",
       "      <td>kensington</td>\n",
       "      <td>hintze</td>\n",
       "      <td>indoor</td>\n",
       "      <td>S179</td>\n",
       "    </tr>\n",
       "    <tr>\n",
       "      <th>0005.wav</th>\n",
       "      <td>campus</td>\n",
       "      <td>square</td>\n",
       "      <td>outdoor</td>\n",
       "      <td>S176</td>\n",
       "    </tr>\n",
       "    <tr>\n",
       "      <th>...</th>\n",
       "      <td>...</td>\n",
       "      <td>...</td>\n",
       "      <td>...</td>\n",
       "      <td>...</td>\n",
       "    </tr>\n",
       "    <tr>\n",
       "      <th>2496.wav</th>\n",
       "      <td>westend</td>\n",
       "      <td>trafalgar</td>\n",
       "      <td>outdoor</td>\n",
       "      <td>S151</td>\n",
       "    </tr>\n",
       "    <tr>\n",
       "      <th>2497.wav</th>\n",
       "      <td>campus</td>\n",
       "      <td>square</td>\n",
       "      <td>outdoor</td>\n",
       "      <td>S6</td>\n",
       "    </tr>\n",
       "    <tr>\n",
       "      <th>2498.wav</th>\n",
       "      <td>westend</td>\n",
       "      <td>national</td>\n",
       "      <td>indoor</td>\n",
       "      <td>S96</td>\n",
       "    </tr>\n",
       "    <tr>\n",
       "      <th>2499.wav</th>\n",
       "      <td>british</td>\n",
       "      <td>room12</td>\n",
       "      <td>indoor</td>\n",
       "      <td>S73</td>\n",
       "    </tr>\n",
       "    <tr>\n",
       "      <th>2500.wav</th>\n",
       "      <td>british</td>\n",
       "      <td>room12</td>\n",
       "      <td>indoor</td>\n",
       "      <td>S58</td>\n",
       "    </tr>\n",
       "  </tbody>\n",
       "</table>\n",
       "<p>2500 rows × 4 columns</p>\n",
       "</div>"
      ],
      "text/plain": [
       "                area       spot   in_out Participant\n",
       "file_id                                             \n",
       "0001.wav     british     street  outdoor        S151\n",
       "0002.wav  kensington   dinosaur   indoor        S127\n",
       "0003.wav      campus     square  outdoor         S18\n",
       "0004.wav  kensington     hintze   indoor        S179\n",
       "0005.wav      campus     square  outdoor        S176\n",
       "...              ...        ...      ...         ...\n",
       "2496.wav     westend  trafalgar  outdoor        S151\n",
       "2497.wav      campus     square  outdoor          S6\n",
       "2498.wav     westend   national   indoor         S96\n",
       "2499.wav     british     room12   indoor         S73\n",
       "2500.wav     british     room12   indoor         S58\n",
       "\n",
       "[2500 rows x 4 columns]"
      ]
     },
     "execution_count": 16,
     "metadata": {},
     "output_type": "execute_result"
    }
   ],
   "source": [
    "MLENDLS_df = pd.read_csv('/home/jovyan/ML/git-code/MLEndLS_final.csv').set_index('file_id') \n",
    "MLENDLS_df"
   ]
  },
  {
   "cell_type": "code",
   "execution_count": 17,
   "id": "7a1cd01c-1729-474b-9e43-c98b90580bfa",
   "metadata": {},
   "outputs": [
    {
     "name": "stdout",
     "output_type": "stream",
     "text": [
      "This audio signal has 379260 samples\n"
     ]
    }
   ],
   "source": [
    "n=0\n",
    "fs = None\n",
    "x, fs = librosa.load(files[n],sr=fs)\n",
    "print('This audio signal has', len(x), 'samples')"
   ]
  },
  {
   "cell_type": "code",
   "execution_count": 18,
   "id": "591b7620-058b-4fc4-b5b6-a09f029f70f9",
   "metadata": {},
   "outputs": [],
   "source": [
    "def getPitch(x,fs,winLen=0.02):\n",
    "  #winLen = 0.02 \n",
    "  p = winLen*fs\n",
    "  frame_length = int(2**int(p-1).bit_length())\n",
    "  hop_length = frame_length//2\n",
    "  f0, voiced_flag, voiced_probs = librosa.pyin(y=x, fmin=80, fmax=450, sr=fs,\n",
    "                                                 frame_length=frame_length,hop_length=hop_length)\n",
    "  return f0,voiced_flag"
   ]
  },
  {
   "cell_type": "code",
   "execution_count": 19,
   "id": "959f8be5-799c-47cb-93b2-9a19009c3f4d",
   "metadata": {},
   "outputs": [],
   "source": [
    "def getXy(files,labels_file, scale_audio=False, onlySingleDigit=False):\n",
    "  X,y =[],[]\n",
    "  for file in tqdm(files):\n",
    "    fileID = file.split('/')[-1]\n",
    "    file_name = file.split('/')[-1]\n",
    "    \n",
    "\n",
    "    \n",
    "    try:\n",
    "        \n",
    "        fs = None # if None, fs would be 22050 #fr = sr = sampling rate\n",
    "        x, fs = librosa.load(file,sr=fs)\n",
    "    \n",
    "        if scale_audio: x = x/np.max(np.abs(x))\n",
    "        f0, voiced_flag = getPitch(x,fs,winLen=0.02)\n",
    "        \n",
    "        yi = labels_file.loc[fileID]['in_out']=='indoor'\n",
    "        \n",
    "        power = np.sum(x**2)/len(x)\n",
    "        pitch_mean = np.nanmean(f0) if np.mean(np.isnan(f0))<1 else 0\n",
    "        pitch_std  = np.nanstd(f0) if np.mean(np.isnan(f0))<1 else 0\n",
    "        voiced_fr = np.mean(voiced_flag)\n",
    "\n",
    "        xi = [power,pitch_mean,pitch_std,voiced_fr]\n",
    "        X.append(xi)\n",
    "        y.append(yi)\n",
    "        \n",
    "    except:\n",
    "        print('issue in file index -->' + str(file))\n",
    "      \n",
    "    \n",
    "\n",
    "  return np.array(X),np.array(y)"
   ]
  },
  {
   "cell_type": "markdown",
   "id": "d02e2a18-c323-4831-8cb9-75364bd54a7d",
   "metadata": {},
   "source": [
    "initial feature extraction : \n",
    "\n",
    "from sound data -> power , pitch, pitch std , voiced fr"
   ]
  },
  {
   "cell_type": "code",
   "execution_count": 11,
   "id": "b4c6c7b0-6a43-4b64-a478-28cef1f1cb54",
   "metadata": {},
   "outputs": [
    {
     "data": {
      "text/plain": [
       "'/home/jovyan/ML/DATA/DATA_unzip_full/0033.wav'"
      ]
     },
     "execution_count": 11,
     "metadata": {},
     "output_type": "execute_result"
    }
   ],
   "source": [
    "files[155]"
   ]
  },
  {
   "cell_type": "code",
   "execution_count": 20,
   "id": "eb2330d0-0d47-424e-bc94-1bd2a4808a1a",
   "metadata": {},
   "outputs": [
    {
     "name": "stderr",
     "output_type": "stream",
     "text": [
      "  6%|▌         | 155/2500 [02:31<56:55,  1.46s/it] /tmp/ipykernel_81/2596168170.py:14: RuntimeWarning: invalid value encountered in true_divide\n",
      "  if scale_audio: x = x/np.max(np.abs(x))\n"
     ]
    },
    {
     "name": "stdout",
     "output_type": "stream",
     "text": [
      "issue in file index -->/home/jovyan/ML/DATA/DATA_unzip_full/0033.wav\n"
     ]
    },
    {
     "name": "stderr",
     "output_type": "stream",
     "text": [
      " 33%|███▎      | 826/2500 [13:16<26:28,  1.05it/s]  "
     ]
    },
    {
     "name": "stdout",
     "output_type": "stream",
     "text": [
      "issue in file index -->/home/jovyan/ML/DATA/DATA_unzip_full/2206.wav\n"
     ]
    },
    {
     "name": "stderr",
     "output_type": "stream",
     "text": [
      "100%|██████████| 2500/2500 [41:19<00:00,  1.01it/s]  \n"
     ]
    }
   ],
   "source": [
    "X,y = getXy(files, labels_file=MLENDLS_df, scale_audio=True, onlySingleDigit=True)"
   ]
  },
  {
   "cell_type": "code",
   "execution_count": 28,
   "id": "427393d0-579f-4ee6-b578-6889de8baf93",
   "metadata": {},
   "outputs": [
    {
     "name": "stdout",
     "output_type": "stream",
     "text": [
      "The shape of X is (2498, 4)\n",
      "The shape of y is (2498,)\n",
      "The labels vector is [False False  True ... False False  True]\n"
     ]
    }
   ],
   "source": [
    "print('The shape of X is', X.shape) \n",
    "print('The shape of y is', y.shape)\n",
    "print('The labels vector is', y)"
   ]
  },
  {
   "cell_type": "code",
   "execution_count": 29,
   "id": "f65ee4a8-64ca-4bee-9974-07bb6df38aea",
   "metadata": {},
   "outputs": [
    {
     "name": "stdout",
     "output_type": "stream",
     "text": [
      " The number of indoor recordings is  1181\n",
      " The number of outdoor recordings is  1317\n"
     ]
    }
   ],
   "source": [
    "print(' The number of indoor recordings is ', np.count_nonzero(y))\n",
    "print(' The number of outdoor recordings is ', y.size - np.count_nonzero(y))"
   ]
  },
  {
   "cell_type": "code",
   "execution_count": 30,
   "id": "ac4343fa-3909-4107-ae4c-944ce73bb300",
   "metadata": {},
   "outputs": [
    {
     "data": {
      "text/html": [
       "<div>\n",
       "<style scoped>\n",
       "    .dataframe tbody tr th:only-of-type {\n",
       "        vertical-align: middle;\n",
       "    }\n",
       "\n",
       "    .dataframe tbody tr th {\n",
       "        vertical-align: top;\n",
       "    }\n",
       "\n",
       "    .dataframe thead th {\n",
       "        text-align: right;\n",
       "    }\n",
       "</style>\n",
       "<table border=\"1\" class=\"dataframe\">\n",
       "  <thead>\n",
       "    <tr style=\"text-align: right;\">\n",
       "      <th></th>\n",
       "      <th>0</th>\n",
       "      <th>1</th>\n",
       "      <th>2</th>\n",
       "      <th>3</th>\n",
       "    </tr>\n",
       "  </thead>\n",
       "  <tbody>\n",
       "    <tr>\n",
       "      <th>0</th>\n",
       "      <td>0.025885</td>\n",
       "      <td>249.622739</td>\n",
       "      <td>7.270292</td>\n",
       "      <td>0.018893</td>\n",
       "    </tr>\n",
       "    <tr>\n",
       "      <th>1</th>\n",
       "      <td>0.010622</td>\n",
       "      <td>154.681365</td>\n",
       "      <td>41.506471</td>\n",
       "      <td>0.087582</td>\n",
       "    </tr>\n",
       "    <tr>\n",
       "      <th>2</th>\n",
       "      <td>0.033283</td>\n",
       "      <td>0.000000</td>\n",
       "      <td>0.000000</td>\n",
       "      <td>0.000000</td>\n",
       "    </tr>\n",
       "    <tr>\n",
       "      <th>3</th>\n",
       "      <td>0.026341</td>\n",
       "      <td>86.945514</td>\n",
       "      <td>2.278420</td>\n",
       "      <td>0.016929</td>\n",
       "    </tr>\n",
       "    <tr>\n",
       "      <th>4</th>\n",
       "      <td>0.015325</td>\n",
       "      <td>208.831053</td>\n",
       "      <td>54.351244</td>\n",
       "      <td>0.307820</td>\n",
       "    </tr>\n",
       "    <tr>\n",
       "      <th>...</th>\n",
       "      <td>...</td>\n",
       "      <td>...</td>\n",
       "      <td>...</td>\n",
       "      <td>...</td>\n",
       "    </tr>\n",
       "    <tr>\n",
       "      <th>2493</th>\n",
       "      <td>0.015924</td>\n",
       "      <td>130.048217</td>\n",
       "      <td>12.280514</td>\n",
       "      <td>0.163430</td>\n",
       "    </tr>\n",
       "    <tr>\n",
       "      <th>2494</th>\n",
       "      <td>0.026830</td>\n",
       "      <td>0.000000</td>\n",
       "      <td>0.000000</td>\n",
       "      <td>0.000000</td>\n",
       "    </tr>\n",
       "    <tr>\n",
       "      <th>2495</th>\n",
       "      <td>0.012497</td>\n",
       "      <td>106.206193</td>\n",
       "      <td>10.204455</td>\n",
       "      <td>0.074380</td>\n",
       "    </tr>\n",
       "    <tr>\n",
       "      <th>2496</th>\n",
       "      <td>0.004613</td>\n",
       "      <td>146.515532</td>\n",
       "      <td>46.498787</td>\n",
       "      <td>0.040346</td>\n",
       "    </tr>\n",
       "    <tr>\n",
       "      <th>2497</th>\n",
       "      <td>0.011549</td>\n",
       "      <td>116.445479</td>\n",
       "      <td>7.501252</td>\n",
       "      <td>0.082927</td>\n",
       "    </tr>\n",
       "  </tbody>\n",
       "</table>\n",
       "<p>2498 rows × 4 columns</p>\n",
       "</div>"
      ],
      "text/plain": [
       "             0           1          2         3\n",
       "0     0.025885  249.622739   7.270292  0.018893\n",
       "1     0.010622  154.681365  41.506471  0.087582\n",
       "2     0.033283    0.000000   0.000000  0.000000\n",
       "3     0.026341   86.945514   2.278420  0.016929\n",
       "4     0.015325  208.831053  54.351244  0.307820\n",
       "...        ...         ...        ...       ...\n",
       "2493  0.015924  130.048217  12.280514  0.163430\n",
       "2494  0.026830    0.000000   0.000000  0.000000\n",
       "2495  0.012497  106.206193  10.204455  0.074380\n",
       "2496  0.004613  146.515532  46.498787  0.040346\n",
       "2497  0.011549  116.445479   7.501252  0.082927\n",
       "\n",
       "[2498 rows x 4 columns]"
      ]
     },
     "execution_count": 30,
     "metadata": {},
     "output_type": "execute_result"
    }
   ],
   "source": [
    "df= pd.DataFrame.from_records(X)\n",
    "df"
   ]
  },
  {
   "cell_type": "code",
   "execution_count": 31,
   "id": "28260561-794a-4a5f-92b3-dbd7b9042a7d",
   "metadata": {},
   "outputs": [
    {
     "data": {
      "text/plain": [
       "numpy.ndarray"
      ]
     },
     "execution_count": 31,
     "metadata": {},
     "output_type": "execute_result"
    }
   ],
   "source": [
    "type(y)"
   ]
  },
  {
   "cell_type": "code",
   "execution_count": 34,
   "id": "08959043-67cd-436f-a008-d38eb9912de5",
   "metadata": {},
   "outputs": [],
   "source": [
    "df['label'] = y.tolist()\n",
    "df.to_csv('feature-set.csv')"
   ]
  },
  {
   "cell_type": "code",
   "execution_count": 39,
   "id": "9b1a1152-33b8-44f1-872b-246df695209c",
   "metadata": {},
   "outputs": [
    {
     "data": {
      "text/html": [
       "<div>\n",
       "<style scoped>\n",
       "    .dataframe tbody tr th:only-of-type {\n",
       "        vertical-align: middle;\n",
       "    }\n",
       "\n",
       "    .dataframe tbody tr th {\n",
       "        vertical-align: top;\n",
       "    }\n",
       "\n",
       "    .dataframe thead th {\n",
       "        text-align: right;\n",
       "    }\n",
       "</style>\n",
       "<table border=\"1\" class=\"dataframe\">\n",
       "  <thead>\n",
       "    <tr style=\"text-align: right;\">\n",
       "      <th></th>\n",
       "      <th>0</th>\n",
       "      <th>1</th>\n",
       "      <th>2</th>\n",
       "      <th>3</th>\n",
       "      <th>label</th>\n",
       "    </tr>\n",
       "    <tr>\n",
       "      <th>id</th>\n",
       "      <th></th>\n",
       "      <th></th>\n",
       "      <th></th>\n",
       "      <th></th>\n",
       "      <th></th>\n",
       "    </tr>\n",
       "  </thead>\n",
       "  <tbody>\n",
       "    <tr>\n",
       "      <th>0</th>\n",
       "      <td>0.025885</td>\n",
       "      <td>249.622739</td>\n",
       "      <td>7.270292</td>\n",
       "      <td>0.018893</td>\n",
       "      <td>False</td>\n",
       "    </tr>\n",
       "    <tr>\n",
       "      <th>1</th>\n",
       "      <td>0.010622</td>\n",
       "      <td>154.681365</td>\n",
       "      <td>41.506471</td>\n",
       "      <td>0.087582</td>\n",
       "      <td>False</td>\n",
       "    </tr>\n",
       "    <tr>\n",
       "      <th>2</th>\n",
       "      <td>0.033283</td>\n",
       "      <td>0.000000</td>\n",
       "      <td>0.000000</td>\n",
       "      <td>0.000000</td>\n",
       "      <td>True</td>\n",
       "    </tr>\n",
       "    <tr>\n",
       "      <th>3</th>\n",
       "      <td>0.026341</td>\n",
       "      <td>86.945514</td>\n",
       "      <td>2.278420</td>\n",
       "      <td>0.016929</td>\n",
       "      <td>False</td>\n",
       "    </tr>\n",
       "    <tr>\n",
       "      <th>4</th>\n",
       "      <td>0.015325</td>\n",
       "      <td>208.831053</td>\n",
       "      <td>54.351244</td>\n",
       "      <td>0.307820</td>\n",
       "      <td>True</td>\n",
       "    </tr>\n",
       "    <tr>\n",
       "      <th>...</th>\n",
       "      <td>...</td>\n",
       "      <td>...</td>\n",
       "      <td>...</td>\n",
       "      <td>...</td>\n",
       "      <td>...</td>\n",
       "    </tr>\n",
       "    <tr>\n",
       "      <th>2493</th>\n",
       "      <td>0.015924</td>\n",
       "      <td>130.048217</td>\n",
       "      <td>12.280514</td>\n",
       "      <td>0.163430</td>\n",
       "      <td>True</td>\n",
       "    </tr>\n",
       "    <tr>\n",
       "      <th>2494</th>\n",
       "      <td>0.026830</td>\n",
       "      <td>0.000000</td>\n",
       "      <td>0.000000</td>\n",
       "      <td>0.000000</td>\n",
       "      <td>True</td>\n",
       "    </tr>\n",
       "    <tr>\n",
       "      <th>2495</th>\n",
       "      <td>0.012497</td>\n",
       "      <td>106.206193</td>\n",
       "      <td>10.204455</td>\n",
       "      <td>0.074380</td>\n",
       "      <td>False</td>\n",
       "    </tr>\n",
       "    <tr>\n",
       "      <th>2496</th>\n",
       "      <td>0.004613</td>\n",
       "      <td>146.515532</td>\n",
       "      <td>46.498787</td>\n",
       "      <td>0.040346</td>\n",
       "      <td>False</td>\n",
       "    </tr>\n",
       "    <tr>\n",
       "      <th>2497</th>\n",
       "      <td>0.011549</td>\n",
       "      <td>116.445479</td>\n",
       "      <td>7.501252</td>\n",
       "      <td>0.082927</td>\n",
       "      <td>True</td>\n",
       "    </tr>\n",
       "  </tbody>\n",
       "</table>\n",
       "<p>2498 rows × 5 columns</p>\n",
       "</div>"
      ],
      "text/plain": [
       "             0           1          2         3  label\n",
       "id                                                    \n",
       "0     0.025885  249.622739   7.270292  0.018893  False\n",
       "1     0.010622  154.681365  41.506471  0.087582  False\n",
       "2     0.033283    0.000000   0.000000  0.000000   True\n",
       "3     0.026341   86.945514   2.278420  0.016929  False\n",
       "4     0.015325  208.831053  54.351244  0.307820   True\n",
       "...        ...         ...        ...       ...    ...\n",
       "2493  0.015924  130.048217  12.280514  0.163430   True\n",
       "2494  0.026830    0.000000   0.000000  0.000000   True\n",
       "2495  0.012497  106.206193  10.204455  0.074380  False\n",
       "2496  0.004613  146.515532  46.498787  0.040346  False\n",
       "2497  0.011549  116.445479   7.501252  0.082927   True\n",
       "\n",
       "[2498 rows x 5 columns]"
      ]
     },
     "execution_count": 39,
     "metadata": {},
     "output_type": "execute_result"
    }
   ],
   "source": [
    "df = pd.read_csv('/home/jovyan/ML/git-code/feature-set.csv').set_index('id') \n",
    "df"
   ]
  },
  {
   "cell_type": "code",
   "execution_count": null,
   "id": "136052d8-1c5e-4cb9-a9cb-9e494e32bcb6",
   "metadata": {},
   "outputs": [],
   "source": [
    "X = "
   ]
  },
  {
   "cell_type": "code",
   "execution_count": 25,
   "id": "c1b31960-a8cf-4fc0-857b-58d24d91da82",
   "metadata": {},
   "outputs": [
    {
     "data": {
      "text/plain": [
       "((1748, 4), (750, 4), (1748,), (750,))"
      ]
     },
     "execution_count": 25,
     "metadata": {},
     "output_type": "execute_result"
    }
   ],
   "source": [
    "from sklearn import svm\n",
    "from sklearn.model_selection import train_test_split\n",
    "\n",
    "X_train, X_val, y_train, y_val = train_test_split(X,y,test_size=0.3)\n",
    "X_train.shape, X_val.shape, y_train.shape, y_val.shape"
   ]
  },
  {
   "cell_type": "code",
   "execution_count": 26,
   "id": "41e382d5-960c-4c98-92f5-3ab7f892ba48",
   "metadata": {},
   "outputs": [
    {
     "name": "stdout",
     "output_type": "stream",
     "text": [
      "Training Accuracy 0.5303203661327232\n",
      "Validation  Accuracy 0.5226666666666666\n",
      "The support vectors are (1650, 4)\n"
     ]
    }
   ],
   "source": [
    "model  = svm.SVC(C=1)\n",
    "model.fit(X_train,y_train)\n",
    "\n",
    "yt_p = model.predict(X_train)\n",
    "yv_p = model.predict(X_val)\n",
    "\n",
    "print('Training Accuracy', np.mean(yt_p==y_train))\n",
    "print('Validation  Accuracy', np.mean(yv_p==y_val))\n",
    "print('The support vectors are', model.support_vectors_.shape)"
   ]
  },
  {
   "cell_type": "code",
   "execution_count": 27,
   "id": "bf72a5d3-8efd-449c-bff4-8349ae5ee00a",
   "metadata": {},
   "outputs": [
    {
     "name": "stdout",
     "output_type": "stream",
     "text": [
      "Training Accuracy 0.6624713958810069\n",
      "Validation  Accuracy 0.588\n",
      "The support vectors are (1603, 4)\n"
     ]
    }
   ],
   "source": [
    "mean = X_train.mean(0)\n",
    "sd =  X_train.std(0)\n",
    "\n",
    "X_train = (X_train-mean)/sd\n",
    "X_val  = (X_val-mean)/sd\n",
    "\n",
    "model  = svm.SVC(C=1,gamma=2)\n",
    "model.fit(X_train,y_train)\n",
    "\n",
    "yt_p = model.predict(X_train)\n",
    "yv_p = model.predict(X_val)\n",
    "\n",
    "print('Training Accuracy', np.mean(yt_p==y_train))\n",
    "print('Validation  Accuracy', np.mean(yv_p==y_val))\n",
    "print('The support vectors are', model.support_vectors_.shape)"
   ]
  },
  {
   "cell_type": "code",
   "execution_count": null,
   "id": "2b31e7ac-9ae7-4eb3-b0be-c1996e0557de",
   "metadata": {},
   "outputs": [],
   "source": []
  }
 ],
 "metadata": {
  "kernelspec": {
   "display_name": "Python 3 (ipykernel)",
   "language": "python",
   "name": "python3"
  },
  "language_info": {
   "codemirror_mode": {
    "name": "ipython",
    "version": 3
   },
   "file_extension": ".py",
   "mimetype": "text/x-python",
   "name": "python",
   "nbconvert_exporter": "python",
   "pygments_lexer": "ipython3",
   "version": "3.10.6"
  }
 },
 "nbformat": 4,
 "nbformat_minor": 5
}
