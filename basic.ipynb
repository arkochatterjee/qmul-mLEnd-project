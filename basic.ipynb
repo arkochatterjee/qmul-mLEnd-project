{
 "cells": [
  {
   "cell_type": "markdown",
   "id": "979a02dd-384d-478f-8816-67013bb05d77",
   "metadata": {},
   "source": [
    "Basic implementation of MLEnd Code"
   ]
  },
  {
   "cell_type": "code",
   "execution_count": 3,
   "id": "32dd3f5d-4a4c-4933-aa6f-cf74f4f53791",
   "metadata": {},
   "outputs": [],
   "source": [
    "#required dependencies\n",
    "\n",
    "import numpy as np\n",
    "import pandas as pd\n",
    "import matplotlib.pyplot as plt\n",
    "\n",
    "import os, sys, re, pickle, glob\n",
    "import urllib.request\n",
    "import zipfile\n",
    "\n",
    "import IPython.display as ipd\n",
    "from tqdm import tqdm\n"
   ]
  },
  {
   "cell_type": "code",
   "execution_count": null,
   "id": "81c9154b-7c79-47ab-a793-94b9968c3b52",
   "metadata": {},
   "outputs": [],
   "source": []
  }
 ],
 "metadata": {
  "kernelspec": {
   "display_name": "Python 3 (ipykernel)",
   "language": "python",
   "name": "python3"
  },
  "language_info": {
   "codemirror_mode": {
    "name": "ipython",
    "version": 3
   },
   "file_extension": ".py",
   "mimetype": "text/x-python",
   "name": "python",
   "nbconvert_exporter": "python",
   "pygments_lexer": "ipython3",
   "version": "3.10.6"
  }
 },
 "nbformat": 4,
 "nbformat_minor": 5
}
